{
 "cells": [
  {
   "cell_type": "markdown",
   "id": "90989190",
   "metadata": {},
   "source": [
    "# convert structured JSON API information into OpenAgent plugins"
   ]
  },
  {
   "cell_type": "code",
   "execution_count": null,
   "id": "994267ed-d487-4808-bfeb-8fb29c04f8c0",
   "metadata": {},
   "outputs": [],
   "source": [
    "from openai import OpenAI\n",
    "import os\n",
    "import uuid\n",
    "import json\n",
    "import re"
   ]
  },
  {
   "cell_type": "code",
   "execution_count": null,
   "id": "e36696b1-c9a0-4a90-989d-4c4a207fcf4c",
   "metadata": {},
   "outputs": [],
   "source": [
    "client = OpenAI(api_key=input(\"your-api-key?\"))"
   ]
  },
  {
   "cell_type": "code",
   "execution_count": null,
   "id": "97350556-c47b-4f9a-8c84-eec12dcbeb9e",
   "metadata": {},
   "outputs": [],
   "source": [
    "target_dir = \"../extractor/apidocs\"\n",
    "plugin_dir = \"pluginpath\"\n",
    "register_file = \"filepath\""
   ]
  },
  {
   "cell_type": "code",
   "execution_count": null,
   "id": "a44cfe0e-bba0-4fb8-b686-2fbe25c592c0",
   "metadata": {},
   "outputs": [],
   "source": [
    "def generate_name_and_desc_json(json):\n",
    "    completion = client.chat.completions.create(\n",
    "        model=\"gpt-4-turbo\",\n",
    "        messages=[\n",
    "            {\"role\": \"system\", \"content\": \"You are a helpful assistant skilled in summarizing json content.\"},\n",
    "            {\"role\": \"user\", \"content\": \"You will be provided with a json file for API info. Summarize and then provide the description and name of this API for me. The output format is: Desc: {your output}\\nName: {your output}\"},\n",
    "            {\"role\": \"user\", \"content\": json}\n",
    "        ],\n",
    "        temperature=0,\n",
    "    )\n",
    "    return completion.choices[0].message.content"
   ]
  },
  {
   "cell_type": "code",
   "execution_count": null,
   "id": "6adf87cd-44cb-42f8-b891-5dc32437fff6",
   "metadata": {},
   "outputs": [],
   "source": [
    "def create_plugin_folder(plugin_dir, plugin_name):\n",
    "    new_plugin_path = os.path.join(plugin_dir, plugin_name)\n",
    "    os.makedirs(new_plugin_path, exist_ok=True)\n",
    "    print(f\"Folder '{plugin_name}' created in '{plugin_dir}'\")\n",
    "    return new_plugin_path\n",
    "\n",
    "def create_init_py(path, content):\n",
    "    init_file_path = os.path.join(path, '__init__.py')\n",
    "    with open(init_file_path, 'w') as f:\n",
    "        if content == None:\n",
    "            pass\n",
    "        else:\n",
    "            f.write(content)\n",
    "    print(f\"'__init__.py' created in '{path}'\")\n",
    "\n",
    "def create_ai_plugin_json(path,id, domain, namespace, desc, yaml_url):\n",
    "    with open('../template/ai_plugin_json_template.txt', 'r') as template_file:\n",
    "        json_template = template_file.read()\n",
    "    ai_plugin_json = json_template.format(id=id, domain=domain, namespace=namespace, desc=desc, yaml_url=yaml_url)\n",
    "    json_file_path = os.path.join(path, 'ai-plugin.json')\n",
    "    with open(json_file_path, 'w') as f:\n",
    "        f.write(ai_plugin_json)\n",
    "    print(f\"'ai-plugin.json' created in '{path}'\")\n",
    "\n",
    "def generate_plugin_id():\n",
    "    unique_id = uuid.uuid4()\n",
    "    return f\"plugin-{str(unique_id)}\""
   ]
  },
  {
   "cell_type": "code",
   "execution_count": null,
   "id": "c229dfe9-d885-4b71-abea-5cc999bd1ea1",
   "metadata": {},
   "outputs": [],
   "source": [
    "for folder in os.listdir(target_dir):\n",
    "    \n",
    "    # create plugin folder\n",
    "    new_plugin_path = create_plugin_folder(plugin_dir, folder)\n",
    "    \n",
    "    # create init.py within the folder\n",
    "    create_init_py(new_plugin_path, None)\n",
    "    \n",
    "    # create ai-plugin.json within the folder\n",
    "    tool_path = os.path.join(target_dir, folder)\n",
    "    try:\n",
    "        for tool_json in os.listdir(tool_path):\n",
    "            if tool_json.endswith(\".txt\"):\n",
    "                with open(os.path.join(tool_path, tool_json), \"r\") as f:\n",
    "                    json_text = f.read()\n",
    "                    json_content = json.loads(json_text)\n",
    "                domain = json_content[\"endpoints\"][0][\"url\"].split(\"/\")[2]\n",
    "                yaml_url = \"https://\" + domain + \"/openapi.yaml\"\n",
    "                gpt_answer = generate_name_and_desc_json(json_text)\n",
    "                namespace = gpt_answer.split(\"\\n\")[1][6:]\n",
    "                desc = gpt_answer.split(\"\\n\")[0][6:]        \n",
    "                id = generate_plugin_id()\n",
    "                create_ai_plugin_json(new_plugin_path, id, domain, namespace, desc, yaml_url)\n",
    "    except:\n",
    "        print(folder + \"!!!!!!!!!!!!!!!!!!!!!!!!!!!!!!!!!!!!!!!!!!!!!!!!!!!!!!!!!!!!!!!!!\\n\\n\\n\\n\")\n",
    "        continue\n",
    "    \n",
    "    # create /path\n",
    "    path_dir = new_plugin_path + \"/path\"\n",
    "    os.makedirs(path_dir, exist_ok=True)\n",
    "\n",
    "    path_dict = {}\n",
    "    for tool_function in os.listdir(tool_path):\n",
    "        request = \"\"\n",
    "        if tool_function.endswith(\".py\"):\n",
    "            with open(os.path.join(tool_path, tool_function), \"r\") as f:\n",
    "                code = f.read()\n",
    "            api_url = re.search(r\"api_url = .+\", code).group()\n",
    "            request += api_url + \"\\n\"\n",
    "            is_get_used = re.search(r\"requests\\.get\", code) is not None\n",
    "            is_post_used = re.search(r\"requests\\.post\", code) is not None\n",
    "            if is_get_used:\n",
    "                request += f'    response = requests.get(api_url, params=input_json)'\n",
    "            if is_post_used:\n",
    "                request += f'    response = requests.post(api_url, json=input_json)'\n",
    "\n",
    "            with open('../template/call_api_template.txt', 'r') as template_file:\n",
    "                template = template_file.read()\n",
    "            template = template.format(request=request)\n",
    "            \n",
    "            with open(os.path.join(path_dir, tool_function), \"w\") as f:\n",
    "                f.write(template)\n",
    "\n",
    "            position = -1\n",
    "            for _ in range(3):\n",
    "                position = api_url.find('/', position + 1)\n",
    "            \n",
    "            path_dict[tool_function] = api_url[position:]\n",
    "\n",
    "    create_init_py(path_dir, \"path_dict = \" + str(path_dict))\n",
    "    \n",
    "    # register this plugin\n",
    "    variable = folder.upper()\n",
    "    with open(register_file, 'a') as f:\n",
    "        f.write(f'    {variable} = \"{folder}\"\\n')\n",
    "    print(f'{folder} added as a plugin\\n\\n')"
   ]
  },
  {
   "cell_type": "code",
   "execution_count": null,
   "id": "30b0b1e1-0ef9-490c-9663-2f707377eafa",
   "metadata": {},
   "outputs": [],
   "source": []
  },
  {
   "cell_type": "code",
   "execution_count": null,
   "id": "e9f3e7d1-bf75-4bf2-957a-605feb63f701",
   "metadata": {},
   "outputs": [],
   "source": []
  }
 ],
 "metadata": {
  "kernelspec": {
   "display_name": "summer_research",
   "language": "python",
   "name": "summer_research"
  },
  "language_info": {
   "codemirror_mode": {
    "name": "ipython",
    "version": 3
   },
   "file_extension": ".py",
   "mimetype": "text/x-python",
   "name": "python",
   "nbconvert_exporter": "python",
   "pygments_lexer": "ipython3",
   "version": "3.11.9"
  }
 },
 "nbformat": 4,
 "nbformat_minor": 5
}
